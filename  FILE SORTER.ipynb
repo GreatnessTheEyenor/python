{
 "cells": [
  {
   "cell_type": "markdown",
   "id": "7d113dfd-2f2b-4a86-85cc-e55079ee8a01",
   "metadata": {},
   "source": [
    "                                   FILE SORTER"
   ]
  },
  {
   "cell_type": "code",
   "execution_count": 32,
   "id": "0ab98a0c-f071-489d-a043-7f11cf651d9d",
   "metadata": {},
   "outputs": [],
   "source": [
    "import os, shutil"
   ]
  },
  {
   "cell_type": "code",
   "execution_count": 33,
   "id": "943b816a-33f7-45cf-9b6e-32400b926711",
   "metadata": {},
   "outputs": [],
   "source": [
    "path = \"C:/Users/xps/OneDrive/Pictures/\""
   ]
  },
  {
   "cell_type": "code",
   "execution_count": 34,
   "id": "c4e97125-c148-4407-a91c-a1b6e16fca91",
   "metadata": {},
   "outputs": [],
   "source": [
    "file_namez = os.listdir(path)"
   ]
  },
  {
   "cell_type": "code",
   "execution_count": 35,
   "id": "58bcde17-263b-41a7-ae6c-91184c391cce",
   "metadata": {},
   "outputs": [],
   "source": [
    "folder_namez = ['video files', 'sql files', 'docx files', 'image files', 'solve files', 'excel files', 'excel2 files', 'text files', 'snail files']\n",
    "for loop in range(0,9):\n",
    "    if not os.path.exists(path + folder_namez[loop]):\n",
    "\n",
    "        os.makedirs(path + folder_namez[loop])\n",
    "\n",
    "for file in file_namez:\n",
    "    if \".csv\"  in file and not os.path.exists(path + \"excel files/\" + file):\n",
    "        shutil.move(path + file, path + \"excel files/\" + file)\n",
    "    elif \".sql\" in file and not os.path.exists(path + \"sql files/\" + file):\n",
    "        shutil.move(path + file, path + \"sql files/\" + file)\n",
    "    elif \".mp4\" in file and not os.path.exists(path + \"video files/\" + file):\n",
    "        shutil.move(path + file, path + \"video files/\" + file)\n",
    "    elif \".docx\" in file and not os.path.exists(path + \"docx files/\" + file):\n",
    "        shutil.move(path + file, path + \"docx files/\" + file)\n",
    "    elif \".png\" in file and not os.path.exists(path + \"image files/\" + file):\n",
    "        shutil.move(path + file, path + \"image files/\" + file)\n",
    "    elif \".txt\" in file and not os.path.exists(path + \"text files/\" + file):\n",
    "        shutil.move(path + file, path + \"text files/\" + file)\n",
    "    elif \".xlsx\" in file and not os.path.exists(path + \"excel2 files/\" + file):\n",
    "        shutil.move(path + file, path + \"excel2 files/\" + file)\n",
    "    "
   ]
  },
  {
   "cell_type": "code",
   "execution_count": null,
   "id": "632c4788-a9e4-48e1-ae17-9f1bfaa3f9db",
   "metadata": {},
   "outputs": [],
   "source": []
  }
 ],
 "metadata": {
  "kernelspec": {
   "display_name": "Python [conda env:base] *",
   "language": "python",
   "name": "conda-base-py"
  },
  "language_info": {
   "codemirror_mode": {
    "name": "ipython",
    "version": 3
   },
   "file_extension": ".py",
   "mimetype": "text/x-python",
   "name": "python",
   "nbconvert_exporter": "python",
   "pygments_lexer": "ipython3",
   "version": "3.12.7"
  }
 },
 "nbformat": 4,
 "nbformat_minor": 5
}
