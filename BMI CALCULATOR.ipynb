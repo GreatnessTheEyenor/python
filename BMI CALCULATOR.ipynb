{
 "cells": [
  {
   "cell_type": "code",
   "execution_count": 19,
   "id": "53666735-7eff-40bf-88f2-b368f25b3403",
   "metadata": {},
   "outputs": [
    {
     "name": "stdin",
     "output_type": "stream",
     "text": [
      "Enter your name:  GREATNESS\n",
      "Enter your weight in pounds:  150\n",
      "Enter your height in inches:  74\n"
     ]
    },
    {
     "name": "stdout",
     "output_type": "stream",
     "text": [
      "19.256756756756758\n",
      "GREATNESS, you are normal weight\n"
     ]
    }
   ],
   "source": [
    "name = input(\"Enter your name: \")\n",
    "weight = int(input(\"Enter your weight in pounds: \"))\n",
    "height = int(input(\"Enter your height in inches: \"))\n",
    "BMI = (weight*703)/(height * height)\n",
    "print(BMI)\n",
    "\n",
    "if BMI > 0:\n",
    "    if(BMI < 18.5 ):\n",
    "        print(name +\", you are under weight\")\n",
    "    elif(BMI < 24.9):\n",
    "        print(name +\", you are normal weight\")\n",
    "    elif(BMI < 29.9):\n",
    "        print(name + \", you are overweight\")\n",
    "    elif(BMI < 34.9):\n",
    "        print(name +\", you are obese\")\n",
    "    elif(BMI < 24.9):\n",
    "        print(name + \", you are extremely obese\")\n",
    "    else: \n",
    "        print(\"you need help!!!\")\n",
    "        \n",
    "        \n",
    "        \n",
    "    \n"
   ]
  },
  {
   "cell_type": "code",
   "execution_count": null,
   "id": "9e7fb79d-af28-4702-b595-21aa37cc1ec3",
   "metadata": {},
   "outputs": [],
   "source": []
  },
  {
   "cell_type": "code",
   "execution_count": 17,
   "id": "400b8c09-a3cb-45e7-88eb-d5ececb443c9",
   "metadata": {},
   "outputs": [
    {
     "name": "stdout",
     "output_type": "stream",
     "text": [
      "alex, you are overweight\n"
     ]
    }
   ],
   "source": [
    "if BMI > 0:\n",
    "    if(BMI < 18.5 ):\n",
    "        print(name +\", you are under weight\")\n",
    "    elif(BMI < 24.9):\n",
    "        print(name +\", you are normal weight\")\n",
    "    elif(BMI < 29.9):\n",
    "        print(name + \", you are overweight\")\n",
    "    elif(BMI < 34.9):\n",
    "        print(name +\", you are obese\")\n",
    "    elif(BMI < 24.9):\n",
    "        print(name + \", you are extremely obese\")\n",
    "    else: \n",
    "        print(\"you need help!!!\")\n",
    "        \n",
    "        \n",
    "        "
   ]
  },
  {
   "cell_type": "code",
   "execution_count": null,
   "id": "03071491-6694-4d09-ab58-b2417ca68d0d",
   "metadata": {},
   "outputs": [],
   "source": []
  },
  {
   "cell_type": "code",
   "execution_count": null,
   "id": "d2d1d2d7-8d7d-4de3-b327-c9f85b9d294d",
   "metadata": {},
   "outputs": [],
   "source": []
  },
  {
   "cell_type": "code",
   "execution_count": null,
   "id": "e5b02101-d3f3-40f8-bc77-65219e83063b",
   "metadata": {},
   "outputs": [],
   "source": []
  },
  {
   "cell_type": "code",
   "execution_count": null,
   "id": "3233f76f-9373-4499-8f58-8db7c0d4edd5",
   "metadata": {},
   "outputs": [],
   "source": []
  },
  {
   "cell_type": "code",
   "execution_count": null,
   "id": "0504483a-ef63-4206-8edf-d6a700252858",
   "metadata": {},
   "outputs": [],
   "source": []
  },
  {
   "cell_type": "code",
   "execution_count": null,
   "id": "dd80ac0e-2787-4998-9712-56883ae93edc",
   "metadata": {},
   "outputs": [],
   "source": []
  },
  {
   "cell_type": "code",
   "execution_count": null,
   "id": "e29c904c-f69d-4fb8-a2fd-66aa313ea6fc",
   "metadata": {},
   "outputs": [],
   "source": []
  },
  {
   "cell_type": "code",
   "execution_count": null,
   "id": "70e6e221-0879-4ede-8650-26ba7afc8a4b",
   "metadata": {},
   "outputs": [],
   "source": []
  },
  {
   "cell_type": "code",
   "execution_count": null,
   "id": "7b22a7ac-66dd-4d34-a82e-57c1eea09811",
   "metadata": {},
   "outputs": [],
   "source": []
  },
  {
   "cell_type": "code",
   "execution_count": null,
   "id": "b750e9e4-abce-47d0-bf12-6b6149968467",
   "metadata": {},
   "outputs": [],
   "source": []
  }
 ],
 "metadata": {
  "kernelspec": {
   "display_name": "Python [conda env:base] *",
   "language": "python",
   "name": "conda-base-py"
  },
  "language_info": {
   "codemirror_mode": {
    "name": "ipython",
    "version": 3
   },
   "file_extension": ".py",
   "mimetype": "text/x-python",
   "name": "python",
   "nbconvert_exporter": "python",
   "pygments_lexer": "ipython3",
   "version": "3.12.7"
  }
 },
 "nbformat": 4,
 "nbformat_minor": 5
}
